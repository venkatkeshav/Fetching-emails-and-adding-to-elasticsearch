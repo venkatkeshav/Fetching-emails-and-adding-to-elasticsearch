{
 "cells": [
  {
   "cell_type": "code",
   "execution_count": 25,
   "id": "e8224c8d",
   "metadata": {},
   "outputs": [],
   "source": [
    "from elasticsearch import Elasticsearch\n",
    "es = Elasticsearch()\n",
    "es.xpack.security.enable = True\n",
    "\n",
    "mapping = {\n",
    "    \"mappings\":{\n",
    "        \"properties\":{\n",
    "        \"Subject\":{\n",
    "            \"type\":\"text\"\n",
    "        },\n",
    "        \"From\":{\n",
    "            \"type\":\"text\"\n",
    "        },\n",
    "        \"To\":{\n",
    "            \"type\":\"text\"\n",
    "        },\n",
    "        \"Date\":{\n",
    "            \"type\":\"date\",\n",
    "            \"format\":\"yyyy-MM-dd HH:mm:ss\"\n",
    "        },\n",
    "        \"Messsage_ID\":{\n",
    "            \"type\":\"text\"\n",
    "        },\n",
    "        \"Body\":{\n",
    "            \"type\":\"text\"\n",
    "        }\n",
    "        \n",
    "        }\n",
    "        }\n",
    "}"
   ]
  },
  {
   "cell_type": "code",
   "execution_count": 32,
   "id": "d4c403e6",
   "metadata": {},
   "outputs": [
    {
     "data": {
      "text/plain": [
       "{'acknowledged': True, 'shards_acknowledged': True, 'index': 'final_index'}"
      ]
     },
     "execution_count": 32,
     "metadata": {},
     "output_type": "execute_result"
    }
   ],
   "source": [
    "es.indices.create(index = \"final_index\", mappings= mapping[\"mappings\"])"
   ]
  },
  {
   "cell_type": "code",
   "execution_count": 158,
   "id": "474f044b",
   "metadata": {},
   "outputs": [
    {
     "name": "stderr",
     "output_type": "stream",
     "text": [
      "C:\\Users\\HP\\AppData\\Local\\Temp/ipykernel_25936/3825651773.py:17: DeprecationWarning: The 'body' parameter is deprecated for the 'search' API and will be removed in a future version. Instead use API parameters directly. See https://github.com/elastic/elasticsearch-py/issues/1698 for more information\n",
      "  x = es.search(index = \"final_index\", body = search_params)\n"
     ]
    },
    {
     "name": "stdout",
     "output_type": "stream",
     "text": [
      "b'2458'\n"
     ]
    },
    {
     "name": "stderr",
     "output_type": "stream",
     "text": [
      "C:\\Users\\HP\\AppData\\Local\\Temp/ipykernel_25936/3825651773.py:83: DeprecationWarning: The 'body' parameter is deprecated for the 'index' API and will be removed in a future version. Instead use the 'document' parameter. See https://github.com/elastic/elasticsearch-py/issues/1698 for more information\n",
      "  es.index(index = \"final_index\", id = \"final element uid\", body = {\"Subject\":last_uid})\n"
     ]
    },
    {
     "data": {
      "text/plain": [
       "('BYE', [b'LOGOUT Requested'])"
      ]
     },
     "execution_count": 158,
     "metadata": {},
     "output_type": "execute_result"
    }
   ],
   "source": [
    "import email, imaplib\n",
    "from email.header import decode_header\n",
    "import credentials\n",
    "from datetime import datetime, timedelta\n",
    "from email.utils import parsedate_tz, mktime_tz\n",
    "x = 0\n",
    "try:\n",
    "    search_params ={\n",
    "        \"_source\":{\n",
    "        \"includes\":[\"id\", \"Subject\", \"From\", \"To\", \"Date\",\"Body\"]\n",
    "        },\"query\":{\n",
    "            \"match\":{\n",
    "                '_id':\"final element uid\"\n",
    "            }\n",
    "        }\n",
    "    }\n",
    "    x = es.search(index = \"final_index\", body = search_params)\n",
    "    x = x[\"hits\"][\"hits\"][0][\"_source\"][\"Subject\"]\n",
    "except: pass\n",
    "\n",
    "sel = imaplib.IMAP4_SSL(\"imap.gmail.com\")\n",
    "sel.login(credentials.mail_id(), credentials.password())\n",
    "sel.select('INBOX')\n",
    "_, msg = sel.uid('search', None ,'ALL' )    \n",
    "latest_email_uid = msg[0].split()\n",
    "latest_email_uid.reverse()\n",
    "print(latest_email_uid[0])\n",
    "for num in latest_email_uid: \n",
    "    _id = num.decode('utf-8')\n",
    "    if int(_id) > x1:\n",
    "        response, data = sel.uid('fetch', num, '(RFC822)')\n",
    "        raw_email = data[0][1]\n",
    "        d = {}\n",
    "        msg = email.message_from_bytes(raw_email)\n",
    "        subject, encoding = decode_header(msg[\"Subject\"])[0]\n",
    "        try:\n",
    "            subject = subject.decode(encoding)\n",
    "        except:pass\n",
    "        if isinstance(subject,bytes):\n",
    "             subject = subject.decode('utf-8')\n",
    "        try:\n",
    "            to = decode_header(msg.get(\"To\"))[0][0]\n",
    "            if isinstance(to , bytes):\n",
    "                to = to.decode('utf-8')\n",
    "        except: pass\n",
    "        From , encoding = decode_header(msg.get(\"From\"))[0]\n",
    "        if isinstance(From ,bytes):\n",
    "            try:\n",
    "                From = From.decode(encoding)\n",
    "            except:\n",
    "                From = From.decode('utf-8')\n",
    "        try:\n",
    "            date = decode_header(msg[\"Date\"])[0][0]\n",
    "            timestamp = mktime_tz(parsedate_tz(date))\n",
    "            utc_time = datetime(1970, 1, 1) + timedelta(seconds=timestamp)\n",
    "            date = str(utc_time)\n",
    "        except: pass\n",
    "        d[\"Subject\"]= subject\n",
    "        d[\"To\"]=to\n",
    "        d[\"From\"]=From\n",
    "        d[\"Date\"]= date\n",
    "        if msg.is_multipart():\n",
    "            for part in msg.walk():\n",
    "                content_type = part.get_content_type()\n",
    "                content_disposition = str(part.get(\"Content-Disposition\"))\n",
    "                try:\n",
    "                    body = part.get_payload(decode=True).decode()\n",
    "                except: pass\n",
    "                if content_type == \"text/plain\" and \"attachment\" not in content_disposition:\n",
    "                    d[\"Body\"] = body\n",
    "        else:\n",
    "            content_type = msg.get_content_type()\n",
    "            try:\n",
    "                body = msg.get_payload(decode=True).decode()\n",
    "            except:  pass\n",
    "            if content_type==\"text/plain\":\n",
    "                d[\"Body\"] = body\n",
    "        es.index(index = \"final_index\" ,id = _id, document = d)\n",
    "    else:\n",
    "        break\n",
    "last_uid = latest_email_uid[0]\n",
    "last_uid = last_uid.decode(\"utf-8\")\n",
    "es.index(index = \"final_index\", id = \"final element uid\", body = {\"Subject\":last_uid})\n",
    "\n",
    "sel.logout()\n"
   ]
  },
  {
   "cell_type": "code",
   "execution_count": 163,
   "id": "8cb02973",
   "metadata": {},
   "outputs": [
    {
     "data": {
      "text/plain": [
       "{'took': 12,\n",
       " 'timed_out': False,\n",
       " '_shards': {'total': 1, 'successful': 1, 'skipped': 0, 'failed': 0},\n",
       " 'hits': {'total': {'value': 2058, 'relation': 'eq'},\n",
       "  'max_score': 1.0,\n",
       "  'hits': [{'_index': 'final_index',\n",
       "    '_type': '_doc',\n",
       "    '_id': '1',\n",
       "    '_score': 1.0,\n",
       "    '_source': {'Subject': 'Finish setting up your new Google account',\n",
       "     'To': 'keshavvenkat22@gmail.com',\n",
       "     'From': 'Google Community Team <googlecommunityteam-noreply@google.com>',\n",
       "     'Date': '2020-02-21 13:39:16',\n",
       "     'Body': \"\\r\\nGoogle  \\r\\n<https://www.google.com/appserve/mkt/p/AFnwnKUUShJuDYHooUekjAA4EqVLmckv1ImWDLAVY4o988f4lq83MlPkA_L3kdKqzfs_3juWOoKNo0RD822Pb_yg82Q8blE-4EfGF9aPloshmGeGRXLq1XmyalLem0dhjKZELMhnex3VclfDDaAkd-5k46j8oBg_PV6P5FA>\\r\\n\\r\\nbanner\\r\\n\\r\\nHi Keshav,\\r\\n\\r\\nWelcome to Google. Your new account comes with access to Google products,  \\r\\napps and services.\\r\\n\\r\\nHere's a few tips to get you started.\\r\\n\\r\\nGoogle Go\\r\\n\\r\\nGet a lighter, faster way to search\\r\\n\\r\\nSearch in a fast, fun and easy way. Type less and save time by using your  \\r\\nvoice.\\r\\n\\r\\nGet Google Go  \\r\\n<https://www.google.com/appserve/mkt/p/AFnwnKWoGyXXXm3xJMk6N6gHzT9JEcehK8XxhJbY_SITEqjF1UdIAHHGEl-7dfJrmKqA0ARYRKoPwvWOooElzJK1l4XXMpSbhsoayIGoOxIDNvqh6IHlS1-DD-JzRChe0cQjrY1ad8khn2bOmI2wyEmyVdvhVycIUOyDZe_M4KQGCp0Xdv7EBl7IOpKkTpxvPPiCJnTAtwyYLENkJi3ovA8j_6QsmOPS7L0dFu9OyOjAWUovnPlovYAM_XWb84BOVxMHWE57sgD0aWHu7IlLgeymIcl3OTl0KijnsR3a1wjocQ>\\r\\n\\r\\nGoogle Play\\r\\n\\r\\nGoogle Play\\r\\n\\r\\nFind apps and games that you love.\\r\\n\\r\\nGo to Google Play  \\r\\n<https://www.google.com/appserve/mkt/p/AFnwnKWtlrqh5kgcia85X-MPUTzuCzHo3yx5gjW_ZZct6A1WX2W6dkxWAFIbLGLOd8hpNG8aQSWQuyOYhgxS6vJcr2475NDb8W9xX15uVadNgTp09FnerHVK_H1dpPMfAF3gsvZ4A4g4S2pwT9GHWUXDmlHISRnyItmM3brgSanBXTaPF1QcKMUn_fRH9H2HJVbIjOxUYDv6IhW3h_UJ2HJwWNjJ5XLd5MY9YwWXjrmvpunlnDZ7JSvFnw>\\r\\n\\r\\nSecurity\\r\\n\\r\\nControl your account\\r\\n\\r\\nChoose what's right for you. Review and adjust your privacy and security  \\r\\nsettings at any time.\\r\\n\\r\\nMy Account  \\r\\n<https://www.google.com/appserve/mkt/p/AFnwnKUVe5jUPukT3nG8GM6v_vheOyZm_OfWyTbgaAbg4mMw0qimu-GnjwShD0916hdd0NtH_4BI8_9Fvzjd4oXgW2Aw4TygI2n2DvMEQ2z1m8WpXP9G9cjgBZlS9ta-vZSVmAZ0R8Z9bu1LS_MhQIbFMA53zLBDCDIgwTZXYTfugzoaq0JeziJYH_dTEpdSeh912gFJTXBGP-UUYt_VhE3cmjOj>\\r\\n\\r\\n\\r\\nFind My Device\\r\\n\\r\\nFind your phone\\r\\n\\r\\nPinpoint your phone's  \\r\\nlocation<https://www.google.com/appserve/mkt/p/AFnwnKX7BFnednFFQvetf9HDcngij0cM-2NqdrKgoGUPXpnn2UjsarSJIlp6b2EXorMM7j8UyNa-em146w8FWLSywiz1kTet9cm8QEefuQ1Is8AQ5qRWcYouGDBXUnBtDcDSnQJjRkx4VIiH7RJk4Ef0YxU0PLAPxKXlgDUnXziZquROgm9cPneRTDlhTUdrUW8>  \\r\\nand secure it with Find My Device.\\r\\n\\r\\nFind Answers\\r\\n\\r\\nFind answers\\r\\n\\r\\nVisit the Help  \\r\\nCentre<https://www.google.com/appserve/mkt/p/AFnwnKVoW3aQdJBKKJ25o-f4squBVz-XVCyA7sLBQDykiNx21LD9DALNDQ_LqWG4M1Zd9zV1rwus763XkqwSOht5ub2UbozlvvIK-txPDbxQu8lVti66cOYuiHDsAydWwvqazPWb6A_c2LIHavH5uRikeIyry8hAbeh85faDOQ7mJpJKOdvYZHpvGJKMZzxh1Lw>  \\r\\nto find out all about your new Google account.\\r\\n\\r\\nWe hope you enjoy your new Android device,\\r\\nGoogle Community Team\\r\\nGoogle Logo\\r\\n\\r\\nReplies to this email aren't monitored. If you have a question about your  \\r\\nnew account, the Help  \\r\\nCentre<https://www.google.com/appserve/mkt/p/AFnwnKWMyPR60FvnIPwhPu7LPNGGrLkeYb6sDK-kEH9g8h4BjNqvIJ38APm0xLsCyiPQel2g7a2cvLFGGn6C8RitimrmmB94z1rLiXMbxo1jQ86n9W1oZ-6fn4AfIETFgCy4KDC0pNWnLO2gSXqPcdSD8_jk88TEdfWFt3rZDchaOx48xeXUbVnUPC_khcP6BNJZ-NAX9n0>  \\r\\nis likely to have the answer that you're looking for.\\r\\n\\r\\nGoogle Asia Pacific Pte. Ltd., 70 Pasir Panjang Road, #03-71, Mapletree  \\r\\nBusiness City, Singapore 117371\\r\\n\\r\\nThis email was sent to you because you created a Google account.\\r\\n\"}},\n",
       "   {'_index': 'final_index',\n",
       "    '_type': '_doc',\n",
       "    '_id': '2',\n",
       "    '_score': 1.0,\n",
       "    '_source': {'Subject': 'Please confirm your email address',\n",
       "     'To': 'Keshav Venkat <keshavvenkat22@gmail.com>',\n",
       "     'From': '\"service@intl.paypal.com\" <service@intl.paypal.com>',\n",
       "     'Date': '2020-02-21 13:41:58'}},\n",
       "   {'_index': 'final_index',\n",
       "    '_type': '_doc',\n",
       "    '_id': '3',\n",
       "    '_score': 1.0,\n",
       "    '_source': {'Subject': \"Here's what you can do with your PayPal account\",\n",
       "     'To': 'Keshav Venkat <keshavvenkat22@gmail.com>',\n",
       "     'From': '\"service@paypal.com\" <service@paypal.com>',\n",
       "     'Date': '2020-02-21 13:43:09'}},\n",
       "   {'_index': 'final_index',\n",
       "    '_type': '_doc',\n",
       "    '_id': '4',\n",
       "    '_score': 1.0,\n",
       "    '_source': {'Subject': 'Your debit/credit card or bank account is now confirmed',\n",
       "     'To': 'Keshav Venkat <keshavvenkat22@gmail.com>',\n",
       "     'From': '\"service@intl.paypal.com\" <service@intl.paypal.com>',\n",
       "     'Date': '2020-02-21 13:43:38'}},\n",
       "   {'_index': 'final_index',\n",
       "    '_type': '_doc',\n",
       "    '_id': '5',\n",
       "    '_score': 1.0,\n",
       "    '_source': {'Subject': 'Your Tickets',\n",
       "     'To': 'Venkat Keshav <keshavvenkat22@gmail.com>',\n",
       "     'From': 'BookMyShow <tickets@bookmyshow.email>',\n",
       "     'Date': '2020-02-21 14:07:27',\n",
       "     'Body': '<?xml version=\"1.0\" encoding=\"utf-16\"?>\\r\\n<html xmlns=\"https://www.w3.org/1999/xhtml\" xmlns:user=\"urn:my-scripts\">\\r\\n  <head>\\r\\n    <meta http-equiv=\"Content-Type\" content=\"text/html; charset=UTF-8\" />\\r\\n    <meta name=\"viewport\" content=\"width=device-width\" />\\r\\n    <title>BookMyShow</title>\\r\\n  </head>\\r\\n  <body leftmargin=\"0\" topmargin=\"0\" marginwidth=\"0\" marginheight=\"0\" yahoo=\"fix\" style=\"font-family:Arial, sans-serif; background:#fff;\">\\r\\n    <table bgcolor=\"#fff\" cellpadding=\"0\" cellspacing=\"0\" width=\"100%\" border=\"0\" align=\"center\" style=\"padding:10px 0 25px 0; margin:0 auto; background:#fff;\">\\r\\n      <tr itemscope=\"\" itemtype=\"http://schema.org/EventReservation\">\\r\\n        <td width=\"100%\" valign=\"top\">\\r\\n          <table cellpadding=\"0\" cellspacing=\"0\" width=\"600\" border=\"0\" align=\"center\" bgcolor=\"ffffff\" style=\"margin:0 auto; padding:35px 25px; min-width:650px; max-width:650px; border:1px solid #e5e5e5; box-shadow: 0px 0px 6px rgba(210, 210, 210,0.4); \">\\r\\n            <tr>\\r\\n              <td colspan=\"3\" style=\"width:600px;background-color:#ffffff;\">\\r\\n                <a href=\"https://in.bookmyshow.com/\" style=\"text-decoration:none;color:#010101\" target=\"_blank\">\\r\\n                  <img src=\"https://in.bmscdn.com/webin/mailer/bmslogo.png\" style=\"margin:0 auto;padding:0 10px 10px 10px;display:block;background-color:#ffffff;color:#010101\" border=\"0\" width=\"150\" />\\r\\n                </a>\\r\\n              </td>\\r\\n            </tr>\\r\\n            <tr>\\r\\n              <td align=\"center\" style=\"padding:0px 25px 10px 25px; font-size:16px; font-family:Arial,sans-serif; text-align:center; vertical-align:top; background-color:#ffffff; color:#828282;\">\\r\\n                <span style=\"font-size:22px; font-weight:bold; color:#4caf50;\">Your booking is confirmed!</span>\\r\\n                <link itemprop=\"reservationStatus\" href=\"http://schema.org/Confirmed\" />\\r\\n              </td>\\r\\n            </tr>\\r\\n            <tr>\\r\\n              <td align=\"center\" style=\"padding:5px 25px 5px 25px; font-size:16px; font-family:Arial,sans-serif; text-align:center; vertical-align:top; background-color:#ffffff; color:#828282;\">Booking ID <span itemprop=\"reservationNumber\" style=\"color:#000; font-weight:bold;\">STCT00W2AF93H3</span></td>\\r\\n            </tr>\\r\\n            <tr>\\r\\n              <td align=\"center\" style=\"width:600px;padding:25px 10px 0 10px; text-align:left; background-color:#ffffff;\">\\r\\n                <table align=\"center\" cellpadding=\"0\" cellspacing=\"0\" style=\"width:580px; margin:0 auto; background-color:#ffffff;\">\\r\\n                  <tr>\\r\\n                    <td>\\r\\n                      <table align=\"center\" cellpadding=\"0\" cellspacing=\"0\" style=\"width:580px; margin:0 auto; background-color:#f5f5f5; border-radius: 5px;\">\\r\\n                        <tr>\\r\\n                          <td>\\r\\n                            <table align=\"center\" cellpadding=\"0\" cellspacing=\"0\" style=\"width:580px; margin:0 auto; padding:10px; background-color:#f5f5f5; border-top-left-radius: 5px; border-top-right-radius: 5px;\">\\r\\n                              <tr>\\r\\n                                <td valign=\"top\" align=\"center\" style=\"width:580px; background-color:#f5f5f5;\">\\r\\n                                  <table cellspacing=\"0\" cellpadding=\"0\" align=\"center\" style=\"width:100%; background-color:#f5f5f5; margin:0px auto;\">\\r\\n                                    <tr>\\r\\n                                      <td valign=\"top\" align=\"center\" style=\"width:60px; background-color:#f5f5f5;padding: 10px 10px 0px 10px;\">\\r\\n                                        <img src=\"https://in.bmscdn.com/Events/moviecard/ET00123751.jpg\" width=\"\" height=\"111\" style=\"display:block; background-color:#f5f5f5; color:#010101; border-radius: 5px;\" border=\"0\" />\\r\\n                                      </td>\\r\\n                                      <td valign=\"top\" align=\"center\" style=\"width:370px; background-color:#f5f5f5; padding:10px;\" itemprop=\"reservationFor\" itemscope=\"itemscope\" itemtype=\"http://schema.org/Event\">\\r\\n                                        <table cellspacing=\"0\" cellpadding=\"0\" align=\"center\" style=\"width:100%; background-color:#f5f5f5; margin:0px auto;\">\\r\\n                                          <tr>\\r\\n                                            <td valign=\"top\" align=\"left\" style=\"padding:0px 5px 0px 0px; height:50px; font-size:20px; font-weight:bold; font-family:Arial,sans-serif; text-align:left; vertical-align:top; background-color:#f5f5f5; color:#3C3C3C;\">\\r\\n                                              <span itemprop=\"name\">Bheeshma (U)</span>\\r\\n                                              <time itemprop=\"startDate\" datetime=\"2020-02-22T14:00:00+05:30\" />\\r\\n                                            </td>\\r\\n                                          </tr>\\r\\n                                          <tr>\\r\\n                                            <td valign=\"bottom\" align=\"left\" style=\"padding:0px 5px 0px 0px; font-size:16px; font-family:Arial,sans-serif; text-align:left; vertical-align:top; background-color:#f5f5f5; color:#3C3C3C;\">02:00pm |\\r\\n                                                              Sat, 22 Feb, 2020<br /><span style=\"display:block;font-size:13px; color:#828282;font-weight:400; padding-top: 10px;\" itemprop=\"location\" itemscope=\"\" itemtype=\"http://schema.org/Place\"><span itemprop=\"name\">Star Theatre: Trichy(Bal1/Bal2/Fc)</span><br />Trichy, Trichy<div itemprop=\"address\" itemscope=\"\" itemtype=\"http://schema.org/PostalAddress\"><meta itemprop=\"streetAddress\" content=\"No 77/174, \" /><meta itemprop=\"addressLocality\" content=\"Trichy\" /><meta itemprop=\"addressRegion\" content=\"Tamil Nadu\" /><meta itemprop=\"postalCode\" content=\"620008\" /><meta itemprop=\"addressCountry\" content=\"India\" /></div></span></td>\\r\\n                                          </tr>\\r\\n                                          <tr>\\r\\n                                            <td>\\r\\n                                              <br />\\r\\n                                              <span style=\"font-size:15px; font-weight:bold; color:#010101; \">Balcony 2: E1, E2, E3, E4, E5, E6, E7</span>\\r\\n                                            </td>\\r\\n                                          </tr>\\r\\n                                        </table>\\r\\n                                      </td>\\r\\n                                      <td valign=\"top\" align=\"center\" style=\"width:100px; background-color:#f5f5f5;\">\\r\\n                                        <img src=\"https://in.bookmyshow.com/secure/barcode/?IsImage=Y&amp;strBarcodeType=qrcode&amp;strBarcodeTxt=STCT00W2AF93H3-ET00123751,14316,22-Feb-2020,14:00&amp;intHeight=100&amp;intWidth=100\" width=\"80\" height=\"80\" style=\"padding:5px 10px; display:block; background-color:#f5f5f5; color:#010101;\" border=\"0\" />\\r\\n                                      </td>\\r\\n                                    </tr>\\r\\n                                  </table>\\r\\n                                </td>\\r\\n                              </tr>\\r\\n                            </table>\\r\\n                          </td>\\r\\n                        </tr>\\r\\n                        <tr>\\r\\n                          <td valign=\"top\" style=\"width:580px;  background-color:#f5f5f5; border:0;\">\\r\\n                            <table cellspacing=\"0\" cellpadding=\"0\" align=\"center\" style=\"width:100%; background-color:#f5f5f5; margin:0px auto; border:0;\">\\r\\n                              <tbody>\\r\\n                                <tr>\\r\\n                                  <td valign=\"top\" align=\"center\" style=\"width:582px;  background:url(https://in.bmscdn.com/webin/mailer/dotted-line-new-5.png) no-repeat; background-repeat:no-repeat;background-position:top; overflow:visible; border:0; background-size: contain;\">\\r\\n                                    <table cellspacing=\"0\" cellpadding=\"0\" align=\"center\" style=\"width:580px; margin:0px auto; border:0;\">\\r\\n                                      <tbody>\\r\\n                                        <tr>\\r\\n                                          <td valign=\"top\" align=\"left\" style=\"width:60px; height:40px; padding:40px 30px 0px 30px;vertical-align: middle; text-align:center; font-size:26px; font-weight:800; font-family:Arial,sans-serif; color:#000000; border:0;\">\\r\\n                                            <p style=\"margin:0; padding-bottom:6px; line-height:0;border:0;\">7</p>\\r\\n                                            <span style=\"font-size:13px; color:#828282;font-weight:400; \">Tickets</span>\\r\\n                                          </td>\\r\\n                                          <td valign=\"top\" align=\"left\" style=\"width:270px; height:40px; padding:20px 10px 0px 15px; vertical-align: middle;font-family:Arial,sans-serif; text-align:left; font-size:13px; color:#828282; font-weight:400; border:0;\">\\r\\n                                            <p style=\"margin:0; padding-bottom:6px;border:0;\">Bal1/Bal2/Fc</p>\\r\\n                                          </td>\\r\\n                                          <td valign=\"top\" style=\"width:120px; border:0;\">\\r\\n                                            <img src=\"https://in.bmscdn.com/mailers/images/161202ticket/bookingstamps.png\" width=\"105\" height=\"107\" style=\"display:block; color:#010101; \" border=\"0\" />\\r\\n                                          </td>\\r\\n                                        </tr>\\r\\n                                      </tbody>\\r\\n                                    </table>\\r\\n                                  </td>\\r\\n                                </tr>\\r\\n                                <tr>\\r\\n                                  <td colspan=\"2\" valign=\"top\" align=\"center\" style=\" background-color:#ffffff; padding-bottom:10px;\">\\r\\n                                    <img src=\"https://in.bmscdn.com/mailers/images/161223confirmation/4a.png\" width=\"580\" height=\"8\" style=\" display:block; background-color:#f5f5f5; color:#010101;\" border=\"0\" />\\r\\n                                  </td>\\r\\n                                </tr>\\r\\n                              </tbody>\\r\\n                            </table>\\r\\n                          </td>\\r\\n                        </tr>\\r\\n                      </table>\\r\\n                    </td>\\r\\n                  </tr>\\r\\n                </table>\\r\\n              </td>\\r\\n            </tr>\\r\\n            <tr>\\r\\n              <td align=\"left\" style=\"text-align:center; background-color:#ffffff; padding:20px;\">\\r\\n                <table cellpadding=\"0\" cellspacing=\"0\" style=\"width:580px; padding:22px 25px 5px 25px; border:2px solid #f1f1f1; border-radius: 5px; font-family:Arial,sans-serif; margin: 0 auto;\">\\r\\n                  <tr>\\r\\n                    <td valign=\"top\" align=\"left\" style=\"width:100%; font-size:14px; font-family:Arial,sans-serif; text-align:left; vertical-align:top; background-color:#ffffff; color:#828282;\">\\r\\n                      <table cellpadding=\"0\" cellspacing=\"0\" style=\"width:100%; font-family:Arial,sans-serif; margin: 0 auto;\">\\r\\n                        <tr>\\r\\n                          <td align=\"left\" style=\"width:70%; padding-bottom:20px; font-size:14px; font-family:Arial,sans-serif; text-align:left; vertical-align:top; background-color:#ffffff; color:#3F474E;\">\\r\\n                            <p style=\"margin:0; padding: 0 0 8px 0;\">\\r\\n                              <strong>Congrats! Coupons Unlocked.</strong>\\r\\n                            </p>\\r\\n                            <span style=\"color:#828282; font-size:13px;\">Grab discounts from restaurants nearby.</span>\\r\\n                          </td>\\r\\n                          <td style=\"padding: 5px 0px; float:right\">\\r\\n                            <a target=\"_blank\" href=\"https://in.bookmyshow.com/myprofile\" style=\"text-decoration:none; color:#fff; display:inline-block; line-height:30px; text-align:center; font-family: Arial,sans-serif; border-radius:4px; background:#167FFC; font-size:12px; padding:0px 15px;\">SELECT COUPONS\\r\\n                                    </a>\\r\\n                          </td>\\r\\n                        </tr>\\r\\n                      </table>\\r\\n                    </td>\\r\\n                  </tr>\\r\\n                </table>\\r\\n              </td>\\r\\n            </tr>\\r\\n            <tr>\\r\\n              <td valign=\"top\" align=\"left\" style=\"font-size:14px; font-family:Arial,sans-serif; text-align:left; vertical-align:top; background-color:#ffffff; color:#828282;\">\\r\\n                <table align=\"center\" cellpadding=\"0\" cellspacing=\"0\" style=\"width:600px; font-family:Arial,sans-serif; margin: 0 auto;\">\\r\\n                  <tr>\\r\\n                    <td align=\"left\" style=\"width:580px; padding: 15px 10px 15px 10px; font-size:13px; font-family:Arial,sans-serif; text-align:left; vertical-align:top; background-color:#ffffff; font-weight:600; color:#828282; letter-spacing:1px;\">ORDER SUMMARY</td>\\r\\n                  </tr>\\r\\n                </table>\\r\\n              </td>\\r\\n            </tr>\\r\\n            <tr>\\r\\n              <td align=\"left\" style=\"text-align:center; background-color:#ffffff;\">\\r\\n                <table cellpadding=\"0\" cellspacing=\"0\" style=\"width:580px; padding:25px 25px 15px 25px; border:2px solid #f1f1f1; border-bottom:0px !important;  border-top-left-radius: 5px; border-top-right-radius: 5px; font-family:Arial,sans-serif; margin: 0 auto;\">\\r\\n                  <tr>\\r\\n                    <td valign=\"top\" align=\"left\" style=\"width:100%; font-size:14px; font-family:Arial,sans-serif; text-align:left; vertical-align:top; background-color:#ffffff; color:#828282;\">\\r\\n                      <table cellpadding=\"0\" cellspacing=\"0\" style=\"width:100%; padding-bottom:20px; font-family:Arial,sans-serif; margin: 0 auto;\">\\r\\n                        <tr>\\r\\n                          <td align=\"left\" style=\"width:50%; font-size:14px; font-family:Arial,sans-serif; text-align:left; vertical-align:top; background-color:#ffffff; color:#3F474E;\">\\r\\n                            <p style=\"margin:0; padding: 0 0 12px 0;\">\\r\\n                              <strong>TICKET AMOUNT</strong>\\r\\n                            </p>\\r\\n                            <span style=\"color:#828282; font-size:13px;\">Quantity</span>\\r\\n                          </td>\\r\\n                          <td align=\"right\" style=\"width:50%; font-size:15px; font-family:Arial,sans-serif; text-align:right; vertical-align:top; background-color:#ffffff; color:#3C3C3C;\">\\r\\n                            <p style=\"margin:0; padding: 0 0 12px 0;\">Rs.770.00</p>\\r\\n                            <span style=\"color:#828282; font-size:13px;\">7<span> tickets </span></span>\\r\\n                          </td>\\r\\n                        </tr>\\r\\n                      </table>\\r\\n                    </td>\\r\\n                  </tr>\\r\\n                  <tr>\\r\\n                    <td valign=\"top\" align=\"left\" style=\"width:100%; font-size:14px; font-family:Arial,sans-serif; text-align:left; vertical-align:top; background-color:#ffffff; color:#828282;\">\\r\\n                      <table cellpadding=\"0\" cellspacing=\"0\" style=\"width:100%; padding:20px 0px; border-top: 2px dashed #f1f1f1; font-family:Arial,sans-serif; margin: 0 auto;\">\\r\\n                        <tr>\\r\\n                          <td align=\"left\" style=\"width:50%; font-size:14px; font-family:Arial,sans-serif; text-align:left; vertical-align:top; background-color:#ffffff; color:#3F474E;\">\\r\\n                            <p style=\"margin:0; padding:0 0 12px 0;text-transform: uppercase;\">\\r\\n                              <strong>Internet handling fees</strong>\\r\\n                            </p>\\r\\n                            <p style=\"color:#828282; font-size:13px; margin:0; padding:0 0 4px 0;\">Booking Fees</p>\\r\\n                            <p style=\"color:#828282; font-size:13px; margin:0; padding:0 0 4px 0;\">Integrated GST (IGST) @ 18%</p>\\r\\n                            <p style=\"color:#828282; font-size:13px; margin:0; padding:0 0 4px 0;\"></p>\\r\\n                            <p style=\"color:#828282; font-size:13px; margin:0; padding:0 0 4px 0;\"></p>\\r\\n                          </td>\\r\\n                          <td align=\"right\" style=\"width:50%; font-size:15px; font-family:Arial,sans-serif; text-align:right; vertical-align:top; background-color:#ffffff; color:#3C3C3C;\">\\r\\n                            <p style=\"margin:0; padding:0 0 12px 0;\">Rs.247.80</p>\\r\\n                            <p style=\"color:#828282; font-size:13px; margin:0; padding:0 0 4px 0;\">Rs.210.00</p>\\r\\n                            <p style=\"color:#828282; font-size:13px; margin:0; padding:0 0 4px 0;\">Rs.37.80</p>\\r\\n                            <p style=\"color:#828282; font-size:13px; margin:0; padding:0 0 4px 0;\"></p>\\r\\n                            <p style=\"color:#828282; font-size:13px; margin:0; padding:0 0 4px 0;\"></p>\\r\\n                          </td>\\r\\n                        </tr>\\r\\n                      </table>\\r\\n                    </td>\\r\\n                  </tr>\\r\\n                  <tr>\\r\\n                    <td valign=\"top\" align=\"left\" style=\"width:100%; font-size:14px; font-family:Arial,sans-serif; text-align:left; vertical-align:top; background-color:#ffffff; color:#828282;\" />\\r\\n                  </tr>\\r\\n                  <tr />\\r\\n                  <tr />\\r\\n                </table>\\r\\n              </td>\\r\\n            </tr>\\r\\n            <tr>\\r\\n              <td align=\"center\" style=\"width:580px; text-align:center; background-color:#ffffff;\">\\r\\n                <table cellpadding=\"0\" cellspacing=\"0\" style=\"width:580px;  margin: 0 auto; background-color:#ffffff;\">\\r\\n                  <tr>\\r\\n                    <td valign=\"top\" align=\"left\" style=\"font-size:14px; font-family:Arial,sans-serif; text-align:left; vertical-align:top; background-color:#f1f1f1; color:#828282;\">\\r\\n                      <table cellpadding=\"0\" cellspacing=\"0\" style=\"width:100%; padding:20px 25px 10px 25px; border-bottom: 2px dashed #f1f1f1; font-family:Arial,sans-serif; margin: 0 auto;\">\\r\\n                        <tr>\\r\\n                          <td align=\"left\" style=\"font-size:16px; font-family:Arial,sans-serif; text-align:left; vertical-align:top;font-weight:bold; background-color:#f1f1f1; color:#333333;\">AMOUNT PAID</td>\\r\\n                          <td align=\"left\" style=\"font-size:16px; font-family:Arial,sans-serif; text-align:right; vertical-align:top;font-weight:bold; background-color:#f1f1f1; color:#333333; \">Rs.1017.80</td>\\r\\n                        </tr>\\r\\n                      </table>\\r\\n                    </td>\\r\\n                  </tr>\\r\\n                  <tr>\\r\\n                    <td valign=\"top\" style=\"width:100%; background-color:#ffffff;\">\\r\\n                      <img src=\"https://in.bmscdn.com/mailers/images/161202ticket/zigzag.png\" width=\"580\" height=\"15\" style=\"width:100%; display:block; background-color:#ffffff; color:#010101;\" border=\"0\" />\\r\\n                    </td>\\r\\n                  </tr>\\r\\n                  <tr>\\r\\n                    <td valign=\"top\" align=\"center\" style=\"width:580px; padding:20px 0; background-color:#ffffff;\">\\r\\n                      <table cellspacing=\"0\" cellpadding=\"0\" align=\"center\" style=\"width:100%; background-color:#ffffff; margin:0px auto;\">\\r\\n                        <tr>\\r\\n                          <td valign=\"top\" align=\"left\" style=\"width:260px; font-size:13px; font-weight:bold; font-family:Arial,sans-serif; text-align:left; vertical-align:top; background-color:#ffffff; color:#3F474E;\">\\r\\n                            <p style=\"color:#787878; font-size:12px; margin:0; padding:0 0 4px 0;\">Booking Date &amp; Time</p>Fri, 21 Feb, 2020 |\\r\\n                                07:34pm</td>\\r\\n                          <td valign=\"top\" align=\"left\" style=\"width:240px; font-size:13px; font-weight:bold; font-family:Arial,sans-serif; text-align:left; vertical-align:top; background-color:#ffffff; color:#3F474E;\">\\r\\n                            <p style=\"color:#787878; font-size:12px; margin:0; padding:0 0 4px 0;\">Payment Type</p>PAYPAL</td>\\r\\n                          <td valign=\"top\" align=\"left\" style=\"width:100px;font-size:13px; font-weight:bold; font-family:Arial,sans-serif; text-align:left; vertical-align:top; background-color:#ffffff; color:#3F474E;\">\\r\\n                            <p style=\"color:#787878; font-size:12px; margin:0; padding:0 0 4px 0;\">Confirmation#</p>2815846471</td>\\r\\n                        </tr>\\r\\n                      </table>\\r\\n                    </td>\\r\\n                  </tr>\\r\\n                </table>\\r\\n              </td>\\r\\n            </tr>\\r\\n            <tr>\\r\\n              <td align=\"center\" style=\"width:580px; text-align:center; background-color:#ffffff;\">\\r\\n                <table cellpadding=\"0\" cellspacing=\"0\" style=\"width:580px;  margin: 0 auto; background-color:#ffffff;\">\\r\\n                  <tr>\\r\\n                    <td align=\"center\" style=\"padding:30px 0 6px 0; border-top:2px dashed #f1f1f1;  font-size:13px; font-family:Arial,sans-serif; text-align:left; vertical-align:top; background-color:#ffffff; color:#787878;\">IMPORTANT INSTRUCTIONS\\r\\n                        </td>\\r\\n                  </tr>\\r\\n                  <tr>\\r\\n                    <td align=\"center\" style=\"padding-bottom:12px; font-size:11px; font-family:Arial,sans-serif; text-align:left; vertical-align:top; background-color:#ffffff; color:#787878;\">3D glass charges extra for 3D movies. Tickets once purchased cannot be cancelled, exchanged or refunded.</td>\\r\\n                  </tr>\\r\\n                  <tr>\\r\\n                    <td align=\"center\" style=\"padding:5px 0 30px 0;  font-size:11px; border-bottom:2px dashed #f1f1f1; font-family:Arial,sans-serif; text-align:left; vertical-align:top; background-color:#ffffff; color:#787878;\">\\r\\n                      <p style=\"padding:0 0 4px 0; margin:0;\">This transaction cannot be cancelled as per cinema cancellation policy.</p>\\r\\n                      <p style=\"padding:0 0 4px 0; margin:0;\">The Credit Card and Credit Card Holder must be present at the ticket counter while collecting the ticket(s).</p>\\r\\n                      <p style=\"padding:0 0 4px 0; margin:0;\">GST collected is paid to the department.</p>\\r\\n                      <p style=\"padding:0 0 4px 0; margin:0;\">999799 - Other Services n.e.c. PAN Based GSTN. \\r\\n                                    27AABCB3428P1ZF.\\r\\n                                      </p>\\r\\n                    </td>\\r\\n                  </tr>\\r\\n                </table>\\r\\n              </td>\\r\\n            </tr>\\r\\n            <tr>\\r\\n              <td align=\"center\" style=\"width:600px; background-color:#ffffff;\">\\r\\n                <table cellspacing=\"0\" cellpadding=\"0\" align=\"center\" style=\"width:100%; max-width:560px; margin:0px auto;\">\\r\\n                  <tr>\\r\\n                    <td colspan=\"2\" align=\"left\" style=\"padding:20px 20px 10px 20px; font-size:13px; font-weight:bold; font-family:Arial,sans-serif; text-align:center; vertical-align:top; background-color:#ffffff; color:#646c70;\">Download Mobile App</td>\\r\\n                  </tr>\\r\\n                  <tr>\\r\\n                    <td style=\"width:560px;\">\\r\\n                      <table cellspacing=\"0\" cellpadding=\"0\" align=\"center\" style=\"width:560px; vertical-align:top;\">\\r\\n                        <tr>\\r\\n                          <td align=\"right\" style=\"padding:8px 5px;\">\\r\\n                            <a href=\"https://play.google.com/store/apps/details?id=com.bt.bms&amp;hl=en\" target=\"_blank\" style=\"display:block; width:130px; text-decoration:none; color:#ffffff;\">\\r\\n                              <img src=\"https://in.bmscdn.com/mailers/images/161202ticket/google-play-1.png\" alt=\"Google Play\" title=\"Google Play\" width=\"130\" height=\"37\" style=\"display:block; background-color:#f1f1f1; color:#010101;\" border=\"0\" />\\r\\n                            </a>\\r\\n                          </td>\\r\\n                          <td align=\"left\" style=\"padding:8px 5px;\">\\r\\n                            <a href=\"https://itunes.apple.com/in/app/bookmyshow-movie-event-play/id405894842?mt=8\" target=\"_blank\" style=\"display:block; width:130px; text-decoration:none; color:#ffffff;\">\\r\\n                              <img src=\"https://in.bmscdn.com/mailers/images/161202ticket/app-store-1.png\" alt=\"Apple Store\" title=\"Apple Store\" width=\"130\" height=\"37\" style=\"display:block; background-color:#f1f1f1; color:#010101;\" border=\"0\" />\\r\\n                            </a>\\r\\n                          </td>\\r\\n                        </tr>\\r\\n                      </table>\\r\\n                    </td>\\r\\n                  </tr>\\r\\n                </table>\\r\\n              </td>\\r\\n            </tr>\\r\\n            <tr>\\r\\n              <td align=\"center\" style=\"width:600px; padding:10px 0 10px 0; background-color:#ffffff;\">\\r\\n                <table cellspacing=\"0\" cellpadding=\"0\" align=\"center\" style=\"width:100%; max-width:600px; margin:0px auto;\">\\r\\n                  <tr>\\r\\n                    <td valign=\"top\" style=\"width:50%; border-right:1px solid #efefef;\">\\r\\n                      <table cellspacing=\"0\" cellpadding=\"0\" align=\"center\" style=\"width:90%; padding:0 10px 10px 10px;\">\\r\\n                        <tr>\\r\\n                          <td colspan=\"7\" align=\"left\" style=\"width:90%;padding:10px 20px 10px 20px; font-size:13px; font-weight:bold; font-family:Arial,sans-serif; text-align:center; vertical-align:top; background-color:#ffffff; color:#646c70;\">Follow Us On</td>\\r\\n                        </tr>\\r\\n                        <tr>\\r\\n                          <td style=\"vertical-align:top; text-align:center;\">\\r\\n                            <a href=\"https://www.facebook.com/pages/BookMyShow/82235273865?&amp;utm_source=TicketConfirmation09Jan2017&amp;utm_medium=email&amp;utm_campaign=Facebook\" target=\"_blank\">\\r\\n                              <img src=\"https://in.bmscdn.com/mailers/images/160720bmsreview/facebook.png\" alt=\"Facebook\" title=\"Facebook\" width=\"22\" height=\"18\" border=\"0\" style=\"padding:5px;\" />\\r\\n                            </a>\\r\\n                          </td>\\r\\n                          <td style=\"vertical-align:top; text-align:center;\">\\r\\n                            <a href=\"https://www.twitter.com/BookMyShow?&amp;utm_source=TicketConfirmation09Jan2017&amp;utm_medium=email&amp;utm_campaign=Twitter\" target=\"_blank\">\\r\\n                              <img src=\"https://in.bmscdn.com/mailers/images/160720bmsreview/twitter.png\" alt=\"Twitter\" title=\"Twitter\" width=\"22\" height=\"18\" border=\"0\" style=\"padding:5px;\" />\\r\\n                            </a>\\r\\n                          </td>\\r\\n                          <td style=\"vertical-align:top; text-align:center;\">\\r\\n                            <a href=\"https://www.youtube.com/user/bookmyshow?&amp;utm_source=TicketConfirmation09Jan2017&amp;utm_medium=email&amp;utm_campaign=Youtube\" target=\"_blank\">\\r\\n                              <img src=\"https://in.bmscdn.com/mailers/images/160720bmsreview/youtube.png\" alt=\"Youtube\" title=\"Youtube\" width=\"22\" height=\"18\" border=\"0\" style=\"padding:5px;\" />\\r\\n                            </a>\\r\\n                          </td>\\r\\n                          <td style=\"vertical-align:top; text-align:center;\">\\r\\n                            <a href=\"https://instagram.com/bmsbookmyshow\" target=\"_blank\">\\r\\n                              <img src=\"https://in.bmscdn.com/mailers/images/160720bmsreview/instagram.png\" alt=\"Instagram\" title=\"Instagram\" width=\"22\" height=\"18\" border=\"0\" style=\"padding:5px;\" />\\r\\n                            </a>\\r\\n                          </td>\\r\\n                          <td style=\"vertical-align:top; text-align:center;\">\\r\\n                            <a href=\"https://www.linkedin.com/company/bookmyshow/?&amp;utm_source=TicketConfirmation09Jan2017&amp;utm_medium=email&amp;utm_campaign=Linkedin\" target=\"_blank\">\\r\\n                              <img src=\"https://in.bmscdn.com/mailers/images/160720bmsreview/linkedin.png\" alt=\"Linkedin\" title=\"Linkedin\" width=\"22\" height=\"18\" border=\"0\" style=\"padding:5px;\" />\\r\\n                            </a>\\r\\n                          </td>\\r\\n                          <td style=\"vertical-align:top; text-align:center;\">\\r\\n                            <a href=\"https://www.pinterest.com/bookmyshow/?&amp;utm_source=TicketConfirmation09Jan2017&amp;utm_medium=email&amp;utm_campaign=Pinterest\" target=\"_blank\">\\r\\n                              <img src=\"https://in.bmscdn.com/mailers/images/160720bmsreview/pinterest.png\" alt=\"Pinterest\" title=\"Pinterest\" width=\"22\" height=\"18\" border=\"0\" style=\"padding:5px;\" />\\r\\n                            </a>\\r\\n                          </td>\\r\\n                        </tr>\\r\\n                      </table>\\r\\n                    </td>\\r\\n                    <td valign=\"top\" style=\"width:50%;\">\\r\\n                      <table cellspacing=\"0\" cellpadding=\"0\" align=\"center\" style=\"width:100%; padding:0 10px 10px 10px;\">\\r\\n                        <tr>\\r\\n                          <td align=\"left\" style=\"padding:10px 20px 5px 20px; font-size:13px; font-weight:bold; font-family:Arial,sans-serif; text-align:center; vertical-align:top; background-color:#ffffff; color:#646c70;\">For Further Assistance:</td>\\r\\n                        </tr>\\r\\n                        <tr>\\r\\n                          <td style=\"border-collapse:collapse;\">\\r\\n                            <table align=\"center\" cellspacing=\"0\" cellpadding=\"0\" style=\"width:100%; padding:5px 4px; background:#ffffff; margin: 0 auto; font-size: 11px;\">\\r\\n                              <tr>\\r\\n                                <td style=\"width:100%; padding-bottom:5px; font-family:Arial, sans-serif; font-size:11px; font-weight:bold; text-align:center; color:#333333; vertical-align:middle;\">\\r\\n                                  <a href=\"mailto:helpdesk@bookmyshow.com\" target=\"_blank\" style=\"text-decoration:none; color:#4d90fe; display: inline-block;\">helpdesk@bookmyshow.com</a>\\r\\n                                </td>\\r\\n                              </tr>\\r\\n                              <tr>\\r\\n                                <td style=\"width:100%; font-family:Arial, sans-serif; font-size:11px; font-weight:bold; text-align:center; color:#333333; vertical-align:middle;\">\\r\\n                                  <a href=\"tel:+912240435050\" target=\"_blank\" style=\"text-decoration:none; color:#333333; display: inline-block;\">\\r\\n                                            044 40435050</a>| <a href=\"tel:+91224466545050\" target=\"_blank\" style=\"text-decoration:none; color:#333333; display: inline-block;\">\\r\\n                                            044 66545050</a></td>\\r\\n                              </tr>\\r\\n                            </table>\\r\\n                          </td>\\r\\n                        </tr>\\r\\n                      </table>\\r\\n                    </td>\\r\\n                  </tr>\\r\\n                </table>\\r\\n              </td>\\r\\n            </tr>\\r\\n          </table>\\r\\n        </td>\\r\\n      </tr>\\r\\n    </table>\\r\\n  </body>\\r\\n</html>'}},\n",
       "   {'_index': 'final_index',\n",
       "    '_type': '_doc',\n",
       "    '_id': '6',\n",
       "    '_score': 1.0,\n",
       "    '_source': {'Subject': 'Receipt for Your Payment to Big Tree Entertainment Private Limited',\n",
       "     'To': 'Keshav Venkat <keshavvenkat22@gmail.com>',\n",
       "     'From': '\"service@intl.paypal.com\" <service@intl.paypal.com>',\n",
       "     'Date': '2020-02-21 14:07:39'}},\n",
       "   {'_index': 'final_index',\n",
       "    '_type': '_doc',\n",
       "    '_id': '7',\n",
       "    '_score': 1.0,\n",
       "    '_source': {'Subject': \"You've received\\xa0₹\\xa0509.00\\xa0INR\\xa0 voucher\",\n",
       "     'To': 'Keshav Venkat <keshavvenkat22@gmail.com>',\n",
       "     'From': '\"service@intl.paypal.com\" <service@intl.paypal.com>',\n",
       "     'Date': '2020-02-21 14:07:54'}},\n",
       "   {'_index': 'final_index',\n",
       "    '_type': '_doc',\n",
       "    '_id': '8',\n",
       "    '_score': 1.0,\n",
       "    '_source': {'Subject': 'Welcome to PayPal',\n",
       "     'To': 'Keshav Venkat <keshavvenkat22@gmail.com>',\n",
       "     'From': '\"service@intl.paypal.com\" <service@intl.paypal.com>',\n",
       "     'Date': '2020-02-21 14:38:31'}},\n",
       "   {'_index': 'final_index',\n",
       "    '_type': '_doc',\n",
       "    '_id': '9',\n",
       "    '_score': 1.0,\n",
       "    '_source': {'Subject': 'Keshav, exciting deals from PayPal, just for you!',\n",
       "     'To': 'keshavvenkat22@gmail.com',\n",
       "     'From': 'PayPal  <paypal@mail.paypal.com>',\n",
       "     'Date': '2020-02-24 09:14:02',\n",
       "     'Body': 'To ensure that you are able to receive our emails, please add @mail.paypal.com & @paypal-exchanges.com to your safe senders list. For more information, please click here.\\r\\nhttps://epl.paypal-communication.com/T/v4000001707679898cc42cc3f4bbc782e8/c61fa76978a749a20000021ef3a0bcc2/c61fa769-78a7-49a2-85fa-8a7ec05fed56?__dU__=v0G4RBKTXg2GtDSXU69hUjn6ZGPAo1dkaY\\r\\n\\r\\n\\r\\n=================================================================\\r\\n\\r\\nPayPal\\r\\n\\r\\n=================================================================\\r\\n\\r\\nDear Keshav Venkat,\\r\\n\\r\\nWe have tried to send you this email as HTML (pictures and words) but it wasn’t possible.  In order for you to see what we had hoped to show you, please click here to view online in your browser:\\r\\n\\r\\nhttps://epl.paypal-communication.com/H/2/v4000001707679898cc42cc3f4bbc782e8/c61fa769-78a7-49a2-85fa-8a7ec05fed56/HTML\\r\\n\\r\\nYours sincerely,\\r\\nPayPal\\r\\n\\r\\n=================================================================\\r\\n\\r\\nThis email was sent to keshavvenkat22@gmail.com, because your email preferences are set to receive the PayPal Periodical newsletter and Product Updates. To unsubscribe, please click here.\\r\\nhttps://epl.paypal-communication.com/T/v4000001707679898cc42cc3f4bbc782e8/c61fa76978a749a20000021ef3a0bcc3/c61fa769-78a7-49a2-85fa-8a7ec05fed56?__dU__=v0G4RBKTXg2GtDSXU69hUjn6ZGPAo1dkaY\\r\\n\\r\\nPlease do not reply to this email. Unfortunately, we are unable to respond to inquiries sent to this address. For immediate answers to your questions, simply visit our Help Center by clicking “Help” at the bottom of any PayPal\\r\\npage.\\r\\n\\r\\nConsumer advisory — PayPal Pte. Ltd. the holder of PayPal’s stored value facility does not require the approval of the Monetary Authority of Singapore. Users are advised to read the terms and conditions carefully.\\r\\nhttps://epl.paypal-communication.com/T/v4000001707679898cc42cc3f4bbc782e8/c61fa76978a749a20000021ef3a0bcc4/c61fa769-78a7-49a2-85fa-8a7ec05fed56?__dU__=v0G4RBKTXg2GtDSXU69hUjn6ZGPAo1dkaY\\r\\n\\r\\nCopyright (C) 2020 PayPal. All rights reserved.\\r\\n \\r\\n'}},\n",
       "   {'_index': 'final_index',\n",
       "    '_type': '_doc',\n",
       "    '_id': '10',\n",
       "    '_score': 1.0,\n",
       "    '_source': {'Subject': 'Keshav, use your PayPal voucher of up to Rs 200 before it expires!',\n",
       "     'To': 'keshavvenkat22@gmail.com',\n",
       "     'From': 'PayPal  <paypal@mail.paypal.com>',\n",
       "     'Date': '2020-03-11 01:08:08',\n",
       "     'Body': 'To ensure that you are able to receive our emails, please add @mail.paypal.com & @paypal-exchanges.com to your safe senders list. For more information, please click here.\\r\\nhttps://epl.paypal-communication.com/T/v400000170c7226365add57ff4bbcf6cc0/e5833f01bb6a41470000021ef3a0bcc2/e5833f01-bb6a-4147-8ae9-f1e18035284c?__dU__=v0G4RBKTXg2GtDSXU69hUjn6ZGPAo1dkaY\\r\\n\\r\\n\\r\\n=================================================================\\r\\n\\r\\nPayPal\\r\\n\\r\\n=================================================================\\r\\n\\r\\nDear Keshav Venkat,\\r\\n\\r\\nWe have tried to send you this email as HTML (pictures and words) but it wasn’t possible.  In order for you to see what we had hoped to show you, please click here to view online in your browser:\\r\\n\\r\\nhttps://epl.paypal-communication.com/H/2/v400000170c7226365add57ff4bbcf6cc0/e5833f01-bb6a-4147-8ae9-f1e18035284c/HTML\\r\\n\\r\\nYours sincerely,\\r\\nPayPal\\r\\n\\r\\n=================================================================\\r\\n\\r\\nThis email was sent to keshavvenkat22@gmail.com, because your email preferences are set to receive the PayPal Periodical newsletter and Product Updates. To unsubscribe, please click here.\\r\\nhttps://epl.paypal-communication.com/T/v400000170c7226365add57ff4bbcf6cc0/e5833f01bb6a41470000021ef3a0bcc3/e5833f01-bb6a-4147-8ae9-f1e18035284c?__dU__=v0G4RBKTXg2GtDSXU69hUjn6ZGPAo1dkaY\\r\\n\\r\\nPlease do not reply to this email. Unfortunately, we are unable to respond to inquiries sent to this address. For immediate answers to your questions, simply visit our Help Center by clicking “Help” at the bottom of any PayPal\\r\\npage.\\r\\n\\r\\nConsumer advisory — PayPal Pte. Ltd. the holder of PayPal’s stored value facility does not require the approval of the Monetary Authority of Singapore. Users are advised to read the terms and conditions carefully.\\r\\nhttps://epl.paypal-communication.com/T/v400000170c7226365add57ff4bbcf6cc0/e5833f01bb6a41470000021ef3a0bcc4/e5833f01-bb6a-4147-8ae9-f1e18035284c?__dU__=v0G4RBKTXg2GtDSXU69hUjn6ZGPAo1dkaY\\r\\n\\r\\nCopyright (C) 2020 PayPal. All rights reserved.\\r\\n \\r\\n'}}]}}"
      ]
     },
     "execution_count": 163,
     "metadata": {},
     "output_type": "execute_result"
    }
   ],
   "source": [
    "s = es.search(index = \"final_index\")\n",
    "s"
   ]
  },
  {
   "cell_type": "code",
   "execution_count": 162,
   "id": "a95d7608",
   "metadata": {},
   "outputs": [
    {
     "name": "stderr",
     "output_type": "stream",
     "text": [
      "C:\\Users\\HP\\AppData\\Local\\Temp/ipykernel_25936/3725552757.py:10: DeprecationWarning: The 'body' parameter is deprecated for the 'search' API and will be removed in a future version. Instead use API parameters directly. See https://github.com/elastic/elasticsearch-py/issues/1698 for more information\n",
      "  x = es.search(index = \"final_index\", body = search_params)\n"
     ]
    },
    {
     "data": {
      "text/plain": [
       "{'took': 2,\n",
       " 'timed_out': False,\n",
       " '_shards': {'total': 1, 'successful': 1, 'skipped': 0, 'failed': 0},\n",
       " 'hits': {'total': {'value': 1, 'relation': 'eq'},\n",
       "  'max_score': 1.0,\n",
       "  'hits': [{'_index': 'final_index',\n",
       "    '_type': '_doc',\n",
       "    '_id': 'final element uid',\n",
       "    '_score': 1.0,\n",
       "    '_source': {'Subject': '2458'}}]}}"
      ]
     },
     "execution_count": 162,
     "metadata": {},
     "output_type": "execute_result"
    }
   ],
   "source": [
    "search_params ={\n",
    "    \"_source\":{\n",
    "    \"includes\":[\"id\", \"Subject\", \"From\", \"To\", \"Date\",\"Body\"]\n",
    "    },\"query\":{\n",
    "        \"match\":{\n",
    "            '_id':\"final element uid\"\n",
    "        }\n",
    "    }\n",
    "}\n",
    "x = es.search(index = \"final_index\", body = search_params)\n",
    "x"
   ]
  },
  {
   "cell_type": "code",
   "execution_count": null,
   "id": "ae9e7b3c",
   "metadata": {},
   "outputs": [],
   "source": []
  }
 ],
 "metadata": {
  "kernelspec": {
   "display_name": "Python 3 (ipykernel)",
   "language": "python",
   "name": "python3"
  },
  "language_info": {
   "codemirror_mode": {
    "name": "ipython",
    "version": 3
   },
   "file_extension": ".py",
   "mimetype": "text/x-python",
   "name": "python",
   "nbconvert_exporter": "python",
   "pygments_lexer": "ipython3",
   "version": "3.9.6"
  }
 },
 "nbformat": 4,
 "nbformat_minor": 5
}
